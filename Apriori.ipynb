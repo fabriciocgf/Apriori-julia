{
 "cells": [
  {
   "cell_type": "markdown",
   "id": "4a57bf57-52f3-4074-9168-8b608c74c076",
   "metadata": {
    "tags": []
   },
   "source": [
    "# Implementação do algoritmo Apriori"
   ]
  },
  {
   "cell_type": "code",
   "execution_count": 56,
   "id": "9088eeaf-1b63-434c-bb58-289b82e3b75f",
   "metadata": {
    "tags": []
   },
   "outputs": [],
   "source": [
    "using DataFrames\n",
    "using Combinatorics"
   ]
  },
  {
   "cell_type": "code",
   "execution_count": 57,
   "id": "14e95ddf-b25b-4462-87a9-0bc55e8f8113",
   "metadata": {
    "tags": []
   },
   "outputs": [
    {
     "data": {
      "text/plain": [
       "apriori (generic function with 3 methods)"
      ]
     },
     "execution_count": 57,
     "metadata": {},
     "output_type": "execute_result"
    }
   ],
   "source": [
    "function apriori(transactions::Vector{Vector{Int64}}, articles::Vector{Int64}, threshold::Float64=0.3, max::Int64=4)\n",
    "    combination_max_size = max\n",
    "    combs_of_size = [Set(collect(combinations(articles,n))) for n in collect(1:combination_max_size)]\n",
    "    transactions_count = length(transactions)\n",
    "    result = []\n",
    "    dict_comb = Dict{Array{Int64,1}, Float64}()\n",
    "    for n in collect(1:combination_max_size)\n",
    "        for comb in combs_of_size[n]\n",
    "            found_percentage = sum([issubset(comb,t) for t in transactions]) / transactions_count\n",
    "            if found_percentage < threshold\n",
    "                for j in collect(n+1:combination_max_size)\n",
    "                    if length(combs_of_size[j]) > 0\n",
    "                        filter!(c -> !issubset(comb, c), combs_of_size[j])\n",
    "                    end\n",
    "                end\n",
    "            else\n",
    "                dict_comb[comb] = found_percentage\n",
    "                push!(result, comb)\n",
    "            end\n",
    "        end\n",
    "    end\n",
    "    return dict_comb, result\n",
    "end"
   ]
  },
  {
   "cell_type": "code",
   "execution_count": 58,
   "id": "38e46699-86ee-4d65-8d35-1fcc74d87ba3",
   "metadata": {
    "tags": []
   },
   "outputs": [
    {
     "data": {
      "text/plain": [
       "association_rules (generic function with 4 methods)"
      ]
     },
     "execution_count": 58,
     "metadata": {},
     "output_type": "execute_result"
    }
   ],
   "source": [
    "function association_rules(frequent_items_dict::Dict{Vector{Int64}, Float64}, metric::String=\"confidence\", min_threshold::Float64=0.8, min_lift::Float64=0.0)\n",
    "    metric_dict = Dict{String,Function}(\n",
    "            \"antecedent support\" => (_, sA, __) -> sA,\n",
    "            \"consequent support\" => (_, __, sC) -> sC,\n",
    "            \"support\" => (sAC, _, __) -> sAC,\n",
    "            \"confidence\" => (sAC, sA, _) -> sAC ./ sA,\n",
    "            \"lift\" => (sAC, sA, sC) -> metric_dict[\"confidence\"](sAC, sA, sC)./sC\n",
    "    )\n",
    "    columns_ordered = [\n",
    "        \"antecedent support\",\n",
    "        \"consequent support\",\n",
    "        \"support\",\n",
    "        \"confidence\",\n",
    "        \"lift\"\n",
    "\t\t]\n",
    "    rule_antecedents = []\n",
    "    rule_consequents = []\n",
    "    rule_supports = []\n",
    "    for (k, sAC) in frequent_items_dict\n",
    "        for idx in collect((length(k)-1):-1:1)\n",
    "            for c in collect(combinations(k, idx))\n",
    "                antecedent = collect(c)\n",
    "                consequent = setdiff(k, antecedent)\n",
    "      sA = frequent_items_dict[antecedent]\n",
    "      sC = frequent_items_dict[consequent]\n",
    "                score = metric_dict[metric](sAC, sA, sC)\n",
    "                Lift = metric_dict[\"lift\"](sAC, sA, sC)\n",
    "                if score >= min_threshold && Lift >= min_lift\n",
    "                        push!(rule_antecedents, antecedent)\n",
    "                        push!(rule_consequents, consequent)\n",
    "                        push!(rule_supports, [sAC, sA, sC])\n",
    "                end\n",
    "            end\n",
    "        end\n",
    "    end\n",
    "    if isempty(rule_supports)\n",
    "        return \"Error\"\n",
    "    else\n",
    "        rule_supports = hcat(rule_supports...)\n",
    "        df_res = DataFrame(antecedents=rule_antecedents, consequents=rule_consequents)\n",
    "  \t\tsAC = rule_supports[1, :]\n",
    "  \t\tsA = rule_supports[2, :]\n",
    "  \t\tsC = rule_supports[3, :]\n",
    "  \t\tfor m in columns_ordered\n",
    "    \t\tdf_res[!, m] = metric_dict[m](sAC, sA, sC)\n",
    "  \t\tend\n",
    "        return df_res\n",
    "    end\n",
    "end"
   ]
  },
  {
   "cell_type": "markdown",
   "id": "570f4f11-d282-4565-84d9-d309c31ad0ef",
   "metadata": {
    "tags": []
   },
   "source": [
    "# lendo e Transformando dados"
   ]
  },
  {
   "cell_type": "code",
   "execution_count": 31,
   "id": "7eb209e0-7290-469a-8edf-f0d83f74343b",
   "metadata": {
    "tags": []
   },
   "outputs": [],
   "source": [
    "using CSV\n",
    "using DataFrames\n",
    "using MLJ\n",
    "using CategoricalArrays"
   ]
  },
  {
   "cell_type": "code",
   "execution_count": 32,
   "id": "cc510a14-4462-419a-9317-9a4bbb5c4d26",
   "metadata": {
    "tags": []
   },
   "outputs": [
    {
     "data": {
      "text/html": [
       "<div><div style = \"float: left;\"><span>5×3 DataFrame</span></div><div style = \"clear: both;\"></div></div><div class = \"data-frame\" style = \"overflow-x: scroll;\"><table class = \"data-frame\" style = \"margin-bottom: 6px;\"><thead><tr class = \"header\"><th class = \"rowNumber\" style = \"font-weight: bold; text-align: right;\">Row</th><th style = \"text-align: left;\">NUMNOTA</th><th style = \"text-align: left;\">SUBCATEGORIA</th><th style = \"text-align: left;\">Categoria Média</th></tr><tr class = \"subheader headerLastRow\"><th class = \"rowNumber\" style = \"font-weight: bold; text-align: right;\"></th><th title = \"Int64\" style = \"text-align: left;\">Int64</th><th title = \"String\" style = \"text-align: left;\">String</th><th title = \"String15\" style = \"text-align: left;\">String15</th></tr></thead><tbody><tr><td class = \"rowNumber\" style = \"font-weight: bold; text-align: right;\">1</td><td style = \"text-align: right;\">139612</td><td style = \"text-align: left;\">ALGA E NORI</td><td style = \"text-align: left;\">RESTAURANTE</td></tr><tr><td class = \"rowNumber\" style = \"font-weight: bold; text-align: right;\">2</td><td style = \"text-align: right;\">139612</td><td style = \"text-align: left;\">SACHE GUARDANAPO</td><td style = \"text-align: left;\">RESTAURANTE</td></tr><tr><td class = \"rowNumber\" style = \"font-weight: bold; text-align: right;\">3</td><td style = \"text-align: right;\">142641</td><td style = \"text-align: left;\">FARINHA PARA EMPANAR</td><td style = \"text-align: left;\">RESTAURANTE</td></tr><tr><td class = \"rowNumber\" style = \"font-weight: bold; text-align: right;\">4</td><td style = \"text-align: right;\">142641</td><td style = \"text-align: left;\">OLEO DE ALGODAO</td><td style = \"text-align: left;\">RESTAURANTE</td></tr><tr><td class = \"rowNumber\" style = \"font-weight: bold; text-align: right;\">5</td><td style = \"text-align: right;\">900874</td><td style = \"text-align: left;\">OLEOS ESPECIAIS</td><td style = \"text-align: left;\">RESTAURANTE</td></tr></tbody></table></div>"
      ],
      "text/latex": [
       "\\begin{tabular}{r|ccc}\n",
       "\t& NUMNOTA & SUBCATEGORIA & Categoria Média\\\\\n",
       "\t\\hline\n",
       "\t& Int64 & String & String15\\\\\n",
       "\t\\hline\n",
       "\t1 & 139612 & ALGA E NORI & RESTAURANTE \\\\\n",
       "\t2 & 139612 & SACHE GUARDANAPO & RESTAURANTE \\\\\n",
       "\t3 & 142641 & FARINHA PARA EMPANAR & RESTAURANTE \\\\\n",
       "\t4 & 142641 & OLEO DE ALGODAO & RESTAURANTE \\\\\n",
       "\t5 & 900874 & OLEOS ESPECIAIS & RESTAURANTE \\\\\n",
       "\\end{tabular}\n"
      ],
      "text/plain": [
       "\u001b[1m5×3 DataFrame\u001b[0m\n",
       "\u001b[1m Row \u001b[0m│\u001b[1m NUMNOTA \u001b[0m\u001b[1m SUBCATEGORIA         \u001b[0m\u001b[1m Categoria Média \u001b[0m\n",
       "     │\u001b[90m Int64   \u001b[0m\u001b[90m String               \u001b[0m\u001b[90m String15        \u001b[0m\n",
       "─────┼────────────────────────────────────────────────\n",
       "   1 │  139612  ALGA E NORI           RESTAURANTE\n",
       "   2 │  139612  SACHE GUARDANAPO      RESTAURANTE\n",
       "   3 │  142641  FARINHA PARA EMPANAR  RESTAURANTE\n",
       "   4 │  142641  OLEO DE ALGODAO       RESTAURANTE\n",
       "   5 │  900874  OLEOS ESPECIAIS       RESTAURANTE"
      ]
     },
     "execution_count": 32,
     "metadata": {},
     "output_type": "execute_result"
    }
   ],
   "source": [
    "df_init_data = DataFrame(CSV.File(\"Base.csv\")); #importando dados\n",
    "df_init_data = copy(df_init_data[:, [\"NUMNOTA\", \"SUBCATEGORIA\", \"Categoria Média\"]]); # Selecionando categorias importantes\n",
    "df_init_data = unique(df_init_data); # Removendo ctegorias duplicadas\n",
    "first(df_init_data, 5)"
   ]
  },
  {
   "cell_type": "code",
   "execution_count": 33,
   "id": "f49c5338-9df2-4dac-ad53-ea6ab45a911c",
   "metadata": {
    "tags": []
   },
   "outputs": [
    {
     "data": {
      "text/plain": [
       "3-element Vector{DataType}:\n",
       " Int64\n",
       " String\n",
       " String15"
      ]
     },
     "execution_count": 33,
     "metadata": {},
     "output_type": "execute_result"
    }
   ],
   "source": [
    "# Displaying column types\n",
    "eltype.(eachcol(df_init_data))"
   ]
  },
  {
   "cell_type": "code",
   "execution_count": 34,
   "id": "9ad9aa54-c244-4b9d-8ee2-1e06d259dffb",
   "metadata": {
    "tags": []
   },
   "outputs": [],
   "source": [
    "df_focus_data = df_init_data[df_init_data.\"Categoria Média\" .== \"RESTAURANTE\", [:NUMNOTA,:SUBCATEGORIA]];"
   ]
  },
  {
   "cell_type": "code",
   "execution_count": 35,
   "id": "66d3a85b-16eb-41f3-ad73-d14028552919",
   "metadata": {
    "tags": []
   },
   "outputs": [],
   "source": [
    "df_focus_data.SUBCATEGORIA = CategoricalArray(df_focus_data.SUBCATEGORIA, ordered=false); # Mudando para dados categóricos"
   ]
  },
  {
   "cell_type": "code",
   "execution_count": 36,
   "id": "fd18eb47-8888-461a-8544-425d175c090a",
   "metadata": {
    "tags": []
   },
   "outputs": [
    {
     "data": {
      "text/plain": [
       "2-element Vector{DataType}:\n",
       " Int64\n",
       " CategoricalValue{String, UInt32}"
      ]
     },
     "execution_count": 36,
     "metadata": {},
     "output_type": "execute_result"
    }
   ],
   "source": [
    "# Displaying column types\n",
    "eltype.(eachcol(df_focus_data))"
   ]
  },
  {
   "cell_type": "code",
   "execution_count": 37,
   "id": "739158c8-dfc2-4272-85d2-a3b3b7fe221f",
   "metadata": {
    "tags": []
   },
   "outputs": [],
   "source": [
    "# Agrupoando por transação\n",
    "gd = groupby(df_focus_data, :NUMNOTA);"
   ]
  },
  {
   "cell_type": "code",
   "execution_count": 38,
   "id": "8c4c662c-5531-4efb-867a-84e9fe8454e0",
   "metadata": {
    "tags": []
   },
   "outputs": [],
   "source": [
    "# Salvando transações no formato correto\n",
    "trans::Vector{Vector{Int64}} = []\n",
    "for k in keys(gd)\n",
    "    push!(trans,Vector{Int64}(levelcode.(gd[k].SUBCATEGORIA))) # Adicionando vetor com codigo das categoras a lista trans\n",
    "end"
   ]
  },
  {
   "cell_type": "code",
   "execution_count": 39,
   "id": "63d3e02a-ff92-4b67-8bfb-8ee02c77447a",
   "metadata": {
    "tags": []
   },
   "outputs": [
    {
     "data": {
      "text/plain": [
       "28593-element Vector{Vector{Int64}}:\n",
       " [15, 278]\n",
       " [118, 193]\n",
       " [197, 207]\n",
       " [117, 195, 248, 288, 294, 322]\n",
       " [26, 56, 132, 165, 239, 324]\n",
       " [294, 307]\n",
       " [118, 199]\n",
       " [6, 53, 62, 93, 97, 117, 118, 121, 122, 140, 152, 154, 173, 199, 225, 288, 291]\n",
       " [38, 116, 117, 144, 145, 195, 214, 254, 324]\n",
       " [53, 108, 145, 158, 270]\n",
       " [109, 114, 180, 185, 247, 287, 294, 301, 323]\n",
       " [8, 11, 38, 81, 85, 93, 117, 278]\n",
       " [53, 64, 165, 168, 237, 254, 312]\n",
       " ⋮\n",
       " [8, 71, 117, 119, 154, 185]\n",
       " [6, 10, 13, 30, 37, 38, 53, 101, 174, 182, 192, 245, 288, 318, 323]\n",
       " [266]\n",
       " [131, 165, 239, 294, 313, 323]\n",
       " [64, 104, 242, 282]\n",
       " [30, 53, 106, 122, 224, 225, 254]\n",
       " [189, 247, 252, 268]\n",
       " [10, 13, 24, 53, 97, 99, 127, 145, 239, 247, 250, 288, 291, 323]\n",
       " [278]\n",
       " [6, 122]\n",
       " [38, 46, 56, 85, 193, 254, 317]\n",
       " [20, 115, 131, 132, 179]"
      ]
     },
     "execution_count": 39,
     "metadata": {},
     "output_type": "execute_result"
    }
   ],
   "source": [
    "trans"
   ]
  },
  {
   "cell_type": "code",
   "execution_count": 40,
   "id": "19a1bc8b-3ddb-431d-9c18-8a786217648e",
   "metadata": {
    "tags": []
   },
   "outputs": [
    {
     "data": {
      "text/plain": [
       "327"
      ]
     },
     "execution_count": 40,
     "metadata": {},
     "output_type": "execute_result"
    }
   ],
   "source": [
    "maximum(unique(levelcode.(df_focus_data.SUBCATEGORIA))) ## Numero de itens"
   ]
  },
  {
   "cell_type": "code",
   "execution_count": 41,
   "id": "21656380-f8d5-435a-a797-345ae29f8952",
   "metadata": {
    "tags": []
   },
   "outputs": [
    {
     "data": {
      "text/plain": [
       "1"
      ]
     },
     "execution_count": 41,
     "metadata": {},
     "output_type": "execute_result"
    }
   ],
   "source": [
    "minimum(unique(levelcode.(df_focus_data.SUBCATEGORIA))) ## Numero de itens"
   ]
  },
  {
   "cell_type": "code",
   "execution_count": 42,
   "id": "1dce6fb8-8d3d-4c17-8660-62a763fead06",
   "metadata": {
    "tags": []
   },
   "outputs": [
    {
     "data": {
      "text/plain": [
       "28593-element Vector{Vector{String}}:\n",
       " [\"ALGA E NORI\", \"SACHE GUARDANAPO\"]\n",
       " [\"FARINHA PARA EMPANAR\", \"OLEO DE ALGODAO\"]\n",
       " [\"OLEOS ESPECIAIS\", \"OUTRAS MASSAS SECAS\"]\n",
       " [\"FARINHA DE TRIGO\", \"OLEO DE SOJA\", \"PAPEL HIGIENICO\", \"SACO DE LIXO\", \"SAL\", \"VASSOURAS\"]\n",
       " [\"ARROZ BRANCO\", \"CALDO DE GALINHA\", \"FUBA E POLENTA\", \"MAIONESE\", \"OUTROS TEMPEROS E ESPECIARIAS\", \"VINHO\"]\n",
       " [\"SAL\", \"TALHERES\"]\n",
       " [\"FARINHA PARA EMPANAR\", \"OUTRAS BEBIDAS\"]\n",
       " [\"ACUCAR REFINADO\", \"CAFE EM PO\", \"CASTANHA DE CAJU\", \"CREME CULINARIO\", \"DERIVADOS DE COCO\", \"FARINHA DE TRIGO\", \"FARINHA PARA EMPANAR\", \"FEIJAO CARIOCA\", \"FEIJAO PRETO\", \"GLUTAMATO MONOSSODICO\", \"LEITE CONDENSADO\", \"LEITE INTEGRAL\", \"MEXEDOR\", \"OUTRAS BEBIDAS\", \"OUTROS FEIJOES\", \"SACO DE LIXO\", \"SACO PLASTICO (BOBINA OU ZIP)\"]\n",
       " [\"AZEITONAS\", \"FARINHA DE ROSCA\", \"FARINHA DE TRIGO\", \"GUARDANAPO\", \"HAMBURGUEIRAS E ESTOJOS\", \"OLEO DE SOJA\", \"OUTROS CALDOS SOPAS E CREMES\", \"PEPINO EM CONSERVA\", \"VINHO\"]\n",
       " [\"CAFE EM PO\", \"ESPETO\", \"HAMBURGUEIRAS E ESTOJOS\", \"LIMPA ALUMINIO/INOX/METAL\", \"REFRIGERANTES\"]\n",
       " [\"ESPONJA MULTIUSO\", \"FARINHA DE MANDIOCA\", \"MOLHO DE ALHO\", \"MOLHO SHOYU\", \"PANOS\", \"SACHES SAL\", \"SAL\", \"SUCO EM PO\", \"VINAGRE\"]\n",
       " [\"AGUA COM GAS\", \"AGUA SEM GAS\", \"AZEITONAS\", \"COBERTURA CHOCOLATE BRANCO\", \"COGUMELOS\", \"CREME CULINARIO\", \"FARINHA DE TRIGO\", \"SACHE GUARDANAPO\"]\n",
       " [\"CAFE EM PO\", \"CATCHUP\", \"MAIONESE\", \"MARMITA TERMICA (ISOPOR)\", \"OUTROS SACHES\", \"PEPINO EM CONSERVA\", \"TAPIOCA\"]\n",
       " ⋮\n",
       " [\"AGUA COM GAS\", \"CHAS\", \"FARINHA DE TRIGO\", \"FARINHA SEMOLINA\", \"LEITE INTEGRAL\", \"MOLHO SHOYU\"]\n",
       " [\"ACUCAR REFINADO\", \"AGUA SANITARIA\", \"ALCOOL\", \"ARROZ PARBOILIZADO\", \"AZEITE DE OLIVA\", \"AZEITONAS\", \"CAFE EM PO\", \"DETERGENTE (LAVA LOUCAS)\", \"MILHO VERDE\", \"MOLHO DE PIMENTA\", \"NOZES\", \"PALMITO\", \"SACO DE LIXO\", \"TOUCA DESCARTAVEL\", \"VINAGRE\"]\n",
       " [\"PRODUTOS PARA SORVETES\"]\n",
       " [\"FRUTAS SECAS\", \"MAIONESE\", \"OUTROS TEMPEROS E ESPECIARIAS\", \"SAL\", \"TEMPEROS PRONTOS\", \"VINAGRE\"]\n",
       " [\"CATCHUP\", \"ERVILHA\", \"OVO DE CODORNA\", \"SACHES CATCHUP\"]\n",
       " [\"ARROZ PARBOILIZADO\", \"CAFE EM PO\", \"ESPAGUETE\", \"FEIJAO PRETO\", \"OUTROS FARINACEOS\", \"OUTROS FEIJOES\", \"PEPINO EM CONSERVA\"]\n",
       " [\"MOP E ESFREGAO\", \"PANOS\", \"PAS\", \"PULVERIZADOR\"]\n",
       " [\"AGUA SANITARIA\", \"ALCOOL\", \"AROMAS E ESSENCIAS\", \"CAFE EM PO\", \"DERIVADOS DE COCO\", \"DESINFETANTE\", \"FILME PVC\", \"HAMBURGUEIRAS E ESTOJOS\", \"OUTROS TEMPEROS E ESPECIARIAS\", \"PANOS\", \"PAPEL TOALHA\", \"SACO DE LIXO\", \"SACO PLASTICO (BOBINA OU ZIP)\", \"VINAGRE\"]\n",
       " [\"SACHE GUARDANAPO\"]\n",
       " [\"ACUCAR REFINADO\", \"FEIJAO PRETO\"]\n",
       " [\"AZEITONAS\", \"BISCOITOS E BOLINHOS\", \"CALDO DE GALINHA\", \"COGUMELOS\", \"OLEO DE ALGODAO\", \"PEPINO EM CONSERVA\", \"TOMATE SECO\"]\n",
       " [\"AMENDOA\", \"FARINHA DE MILHO\", \"FRUTAS SECAS\", \"FUBA E POLENTA\", \"MOLHO BARBECUE\"]"
      ]
     },
     "execution_count": 42,
     "metadata": {},
     "output_type": "execute_result"
    }
   ],
   "source": [
    "# Salvando transações no formato correto\n",
    "trans_str::Vector{Vector{String}} = []\n",
    "for k in keys(gd)\n",
    "    push!(trans_str,Vector{String}(gd[k].SUBCATEGORIA)) # Adicionando vetor com codigo das categoras a lista trans\n",
    "end\n",
    "trans_str"
   ]
  },
  {
   "cell_type": "code",
   "execution_count": 43,
   "id": "eeb76523-1dff-452d-9bfa-1ec9a25520af",
   "metadata": {
    "tags": []
   },
   "outputs": [
    {
     "data": {
      "text/plain": [
       "Dict{Int64, String} with 327 entries:\n",
       "  316 => \"TOMATE PELADO\"\n",
       "  214 => \"OUTROS CALDOS SOPAS E CREMES\"\n",
       "  77  => \"CHOCOLATE EM BARRA MEIO AMARGO\"\n",
       "  318 => \"TOUCA DESCARTAVEL\"\n",
       "  121 => \"FEIJAO CARIOCA\"\n",
       "  154 => \"LEITE INTEGRAL\"\n",
       "  143 => \"GRAO DE BICO\"\n",
       "  170 => \"MASCARA DESCARTAVEL\"\n",
       "  242 => \"OVO DE CODORNA\"\n",
       "  166 => \"MANTEIGA POTE E TABLETE\"\n",
       "  83  => \"COBERTURAS E CALDAS\"\n",
       "  286 => \"SACHES MOSTARDA\"\n",
       "  308 => \"TALHERES DE MESA\"\n",
       "  137 => \"GENGIBRE\"\n",
       "  97  => \"DERIVADOS DE COCO\"\n",
       "  30  => \"ARROZ PARBOILIZADO\"\n",
       "  307 => \"TALHERES\"\n",
       "  115 => \"FARINHA DE MILHO\"\n",
       "  101 => \"DETERGENTE (LAVA LOUCAS)\"\n",
       "  8   => \"AGUA COM GAS\"\n",
       "  183 => \"MOLHO DE TOMATE\"\n",
       "  206 => \"OUTRAS MASSAS FRESCAS\"\n",
       "  320 => \"TRIGO PARA QUIBE\"\n",
       "  194 => \"OLEO DE GERGELIM\"\n",
       "  71  => \"CHAS\"\n",
       "  ⋮   => ⋮"
      ]
     },
     "execution_count": 43,
     "metadata": {},
     "output_type": "execute_result"
    }
   ],
   "source": [
    "dict_codes = Dict(levelcode.(df_focus_data.SUBCATEGORIA) .=> Vector{String}(df_focus_data.SUBCATEGORIA))"
   ]
  },
  {
   "cell_type": "markdown",
   "id": "dc36ac26-f91b-459e-ae93-84d0b6883ea3",
   "metadata": {
    "tags": []
   },
   "source": [
    "# Rodando o Algoritmo"
   ]
  },
  {
   "cell_type": "code",
   "execution_count": 59,
   "id": "070469ec-ddd0-4be6-9adc-357d62c9091d",
   "metadata": {
    "tags": []
   },
   "outputs": [
    {
     "name": "stdout",
     "output_type": "stream",
     "text": [
      " 72.943079 seconds (1.44 M allocations: 1.192 GiB, 0.16% gc time)\n"
     ]
    },
    {
     "data": {
      "text/html": [
       "<div><div style = \"float: left;\"><span>2529×7 DataFrame</span></div><div style = \"float: right;\"><span style = \"font-style: italic;\">2504 rows omitted</span></div><div style = \"clear: both;\"></div></div><div class = \"data-frame\" style = \"overflow-x: scroll;\"><table class = \"data-frame\" style = \"margin-bottom: 6px;\"><thead><tr class = \"header\"><th class = \"rowNumber\" style = \"font-weight: bold; text-align: right;\">Row</th><th style = \"text-align: left;\">antecedents</th><th style = \"text-align: left;\">consequents</th><th style = \"text-align: left;\">antecedent support</th><th style = \"text-align: left;\">consequent support</th><th style = \"text-align: left;\">support</th><th style = \"text-align: left;\">confidence</th><th style = \"text-align: left;\">lift</th></tr><tr class = \"subheader headerLastRow\"><th class = \"rowNumber\" style = \"font-weight: bold; text-align: right;\"></th><th title = \"Any\" style = \"text-align: left;\">Any</th><th title = \"Any\" style = \"text-align: left;\">Any</th><th title = \"Float64\" style = \"text-align: left;\">Float64</th><th title = \"Float64\" style = \"text-align: left;\">Float64</th><th title = \"Float64\" style = \"text-align: left;\">Float64</th><th title = \"Float64\" style = \"text-align: left;\">Float64</th><th title = \"Float64\" style = \"text-align: left;\">Float64</th></tr></thead><tbody><tr><td class = \"rowNumber\" style = \"font-weight: bold; text-align: right;\">1</td><td style = \"text-align: left;\">[154]</td><td style = \"text-align: left;\">[239]</td><td style = \"text-align: right;\">0.100829</td><td style = \"text-align: right;\">0.174273</td><td style = \"text-align: right;\">0.0242717</td><td style = \"text-align: right;\">0.240721</td><td style = \"text-align: right;\">1.38129</td></tr><tr><td class = \"rowNumber\" style = \"font-weight: bold; text-align: right;\">2</td><td style = \"text-align: left;\">[25]</td><td style = \"text-align: left;\">[117]</td><td style = \"text-align: right;\">0.00580562</td><td style = \"text-align: right;\">0.17235</td><td style = \"text-align: right;\">0.00129402</td><td style = \"text-align: right;\">0.222892</td><td style = \"text-align: right;\">1.29325</td></tr><tr><td class = \"rowNumber\" style = \"font-weight: bold; text-align: right;\">3</td><td style = \"text-align: left;\">[50]</td><td style = \"text-align: left;\">[22]</td><td style = \"text-align: right;\">0.0287133</td><td style = \"text-align: right;\">0.0850208</td><td style = \"text-align: right;\">0.00654006</td><td style = \"text-align: right;\">0.227771</td><td style = \"text-align: right;\">2.679</td></tr><tr><td class = \"rowNumber\" style = \"font-weight: bold; text-align: right;\">4</td><td style = \"text-align: left;\">[62]</td><td style = \"text-align: left;\">[6]</td><td style = \"text-align: right;\">0.01322</td><td style = \"text-align: right;\">0.126709</td><td style = \"text-align: right;\">0.00297276</td><td style = \"text-align: right;\">0.224868</td><td style = \"text-align: right;\">1.77467</td></tr><tr><td class = \"rowNumber\" style = \"font-weight: bold; text-align: right;\">5</td><td style = \"text-align: left;\">[198]</td><td style = \"text-align: left;\">[294]</td><td style = \"text-align: right;\">0.0109118</td><td style = \"text-align: right;\">0.172455</td><td style = \"text-align: right;\">0.00402196</td><td style = \"text-align: right;\">0.36859</td><td style = \"text-align: right;\">2.13731</td></tr><tr><td class = \"rowNumber\" style = \"font-weight: bold; text-align: right;\">6</td><td style = \"text-align: left;\">[79]</td><td style = \"text-align: left;\">[109]</td><td style = \"text-align: right;\">0.0152485</td><td style = \"text-align: right;\">0.102088</td><td style = \"text-align: right;\">0.00409191</td><td style = \"text-align: right;\">0.268349</td><td style = \"text-align: right;\">2.6286</td></tr><tr><td class = \"rowNumber\" style = \"font-weight: bold; text-align: right;\">7</td><td style = \"text-align: left;\">[230]</td><td style = \"text-align: left;\">[117]</td><td style = \"text-align: right;\">0.0413388</td><td style = \"text-align: right;\">0.17235</td><td style = \"text-align: right;\">0.0094079</td><td style = \"text-align: right;\">0.22758</td><td style = \"text-align: right;\">1.32046</td></tr><tr><td class = \"rowNumber\" style = \"font-weight: bold; text-align: right;\">8</td><td style = \"text-align: left;\">[289]</td><td style = \"text-align: left;\">[6]</td><td style = \"text-align: right;\">0.00419683</td><td style = \"text-align: right;\">0.126709</td><td style = \"text-align: right;\">0.00101423</td><td style = \"text-align: right;\">0.241667</td><td style = \"text-align: right;\">1.90725</td></tr><tr><td class = \"rowNumber\" style = \"font-weight: bold; text-align: right;\">9</td><td style = \"text-align: left;\">[183]</td><td style = \"text-align: left;\">[106]</td><td style = \"text-align: right;\">0.0546637</td><td style = \"text-align: right;\">0.13958</td><td style = \"text-align: right;\">0.0131501</td><td style = \"text-align: right;\">0.240563</td><td style = \"text-align: right;\">1.72348</td></tr><tr><td class = \"rowNumber\" style = \"font-weight: bold; text-align: right;\">10</td><td style = \"text-align: left;\">[96]</td><td style = \"text-align: left;\">[114]</td><td style = \"text-align: right;\">0.0759976</td><td style = \"text-align: right;\">0.116147</td><td style = \"text-align: right;\">0.0155982</td><td style = \"text-align: right;\">0.205246</td><td style = \"text-align: right;\">1.76712</td></tr><tr><td class = \"rowNumber\" style = \"font-weight: bold; text-align: right;\">11</td><td style = \"text-align: left;\">[6]</td><td style = \"text-align: left;\">[53]</td><td style = \"text-align: right;\">0.126709</td><td style = \"text-align: right;\">0.0896373</td><td style = \"text-align: right;\">0.0340293</td><td style = \"text-align: right;\">0.268562</td><td style = \"text-align: right;\">2.9961</td></tr><tr><td class = \"rowNumber\" style = \"font-weight: bold; text-align: right;\">12</td><td style = \"text-align: left;\">[53]</td><td style = \"text-align: left;\">[6]</td><td style = \"text-align: right;\">0.0896373</td><td style = \"text-align: right;\">0.126709</td><td style = \"text-align: right;\">0.0340293</td><td style = \"text-align: right;\">0.379633</td><td style = \"text-align: right;\">2.9961</td></tr><tr><td class = \"rowNumber\" style = \"font-weight: bold; text-align: right;\">13</td><td style = \"text-align: left;\">[237]</td><td style = \"text-align: left;\">[117]</td><td style = \"text-align: right;\">0.00552583</td><td style = \"text-align: right;\">0.17235</td><td style = \"text-align: right;\">0.00223831</td><td style = \"text-align: right;\">0.405063</td><td style = \"text-align: right;\">2.35024</td></tr><tr><td style = \"text-align: right;\">&vellip;</td><td style = \"text-align: right;\">&vellip;</td><td style = \"text-align: right;\">&vellip;</td><td style = \"text-align: right;\">&vellip;</td><td style = \"text-align: right;\">&vellip;</td><td style = \"text-align: right;\">&vellip;</td><td style = \"text-align: right;\">&vellip;</td><td style = \"text-align: right;\">&vellip;</td></tr><tr><td class = \"rowNumber\" style = \"font-weight: bold; text-align: right;\">2518</td><td style = \"text-align: left;\">[121]</td><td style = \"text-align: left;\">[117]</td><td style = \"text-align: right;\">0.0347638</td><td style = \"text-align: right;\">0.17235</td><td style = \"text-align: right;\">0.0109118</td><td style = \"text-align: right;\">0.313883</td><td style = \"text-align: right;\">1.8212</td></tr><tr><td class = \"rowNumber\" style = \"font-weight: bold; text-align: right;\">2519</td><td style = \"text-align: left;\">[53]</td><td style = \"text-align: left;\">[122]</td><td style = \"text-align: right;\">0.0896373</td><td style = \"text-align: right;\">0.108908</td><td style = \"text-align: right;\">0.023782</td><td style = \"text-align: right;\">0.265314</td><td style = \"text-align: right;\">2.43614</td></tr><tr><td class = \"rowNumber\" style = \"font-weight: bold; text-align: right;\">2520</td><td style = \"text-align: left;\">[122]</td><td style = \"text-align: left;\">[53]</td><td style = \"text-align: right;\">0.108908</td><td style = \"text-align: right;\">0.0896373</td><td style = \"text-align: right;\">0.023782</td><td style = \"text-align: right;\">0.218369</td><td style = \"text-align: right;\">2.43614</td></tr><tr><td class = \"rowNumber\" style = \"font-weight: bold; text-align: right;\">2521</td><td style = \"text-align: left;\">[95]</td><td style = \"text-align: left;\">[111]</td><td style = \"text-align: right;\">0.00923303</td><td style = \"text-align: right;\">0.0929248</td><td style = \"text-align: right;\">0.00258805</td><td style = \"text-align: right;\">0.280303</td><td style = \"text-align: right;\">3.01645</td></tr><tr><td class = \"rowNumber\" style = \"font-weight: bold; text-align: right;\">2522</td><td style = \"text-align: left;\">[111]</td><td style = \"text-align: left;\">[117]</td><td style = \"text-align: right;\">0.0929248</td><td style = \"text-align: right;\">0.17235</td><td style = \"text-align: right;\">0.0250061</td><td style = \"text-align: right;\">0.2691</td><td style = \"text-align: right;\">1.56136</td></tr><tr><td class = \"rowNumber\" style = \"font-weight: bold; text-align: right;\">2523</td><td style = \"text-align: left;\">[313]</td><td style = \"text-align: left;\">[323]</td><td style = \"text-align: right;\">0.0522156</td><td style = \"text-align: right;\">0.12545</td><td style = \"text-align: right;\">0.0111566</td><td style = \"text-align: right;\">0.213664</td><td style = \"text-align: right;\">1.70317</td></tr><tr><td class = \"rowNumber\" style = \"font-weight: bold; text-align: right;\">2524</td><td style = \"text-align: left;\">[50]</td><td style = \"text-align: left;\">[294]</td><td style = \"text-align: right;\">0.0287133</td><td style = \"text-align: right;\">0.172455</td><td style = \"text-align: right;\">0.00895324</td><td style = \"text-align: right;\">0.311815</td><td style = \"text-align: right;\">1.8081</td></tr><tr><td class = \"rowNumber\" style = \"font-weight: bold; text-align: right;\">2525</td><td style = \"text-align: left;\">[225]</td><td style = \"text-align: left;\">[10]</td><td style = \"text-align: right;\">0.0454307</td><td style = \"text-align: right;\">0.095338</td><td style = \"text-align: right;\">0.00947784</td><td style = \"text-align: right;\">0.208622</td><td style = \"text-align: right;\">2.18824</td></tr><tr><td class = \"rowNumber\" style = \"font-weight: bold; text-align: right;\">2526</td><td style = \"text-align: left;\">[133]</td><td style = \"text-align: left;\">[294]</td><td style = \"text-align: right;\">0.02651</td><td style = \"text-align: right;\">0.172455</td><td style = \"text-align: right;\">0.0103872</td><td style = \"text-align: right;\">0.391821</td><td style = \"text-align: right;\">2.27202</td></tr><tr><td class = \"rowNumber\" style = \"font-weight: bold; text-align: right;\">2527</td><td style = \"text-align: left;\">[124]</td><td style = \"text-align: left;\">[163]</td><td style = \"text-align: right;\">0.0269996</td><td style = \"text-align: right;\">0.11314</td><td style = \"text-align: right;\">0.00601546</td><td style = \"text-align: right;\">0.222798</td><td style = \"text-align: right;\">1.96923</td></tr><tr><td class = \"rowNumber\" style = \"font-weight: bold; text-align: right;\">2528</td><td style = \"text-align: left;\">[97]</td><td style = \"text-align: left;\">[300]</td><td style = \"text-align: right;\">0.0795649</td><td style = \"text-align: right;\">0.0917357</td><td style = \"text-align: right;\">0.0165075</td><td style = \"text-align: right;\">0.207473</td><td style = \"text-align: right;\">2.26163</td></tr><tr><td class = \"rowNumber\" style = \"font-weight: bold; text-align: right;\">2529</td><td style = \"text-align: left;\">[272]</td><td style = \"text-align: left;\">[239]</td><td style = \"text-align: right;\">0.0365124</td><td style = \"text-align: right;\">0.174273</td><td style = \"text-align: right;\">0.0116812</td><td style = \"text-align: right;\">0.319923</td><td style = \"text-align: right;\">1.83576</td></tr></tbody></table></div>"
      ],
      "text/latex": [
       "\\begin{tabular}{r|ccccccc}\n",
       "\t& antecedents & consequents & antecedent support & consequent support & support & confidence & \\\\\n",
       "\t\\hline\n",
       "\t& Any & Any & Float64 & Float64 & Float64 & Float64 & \\\\\n",
       "\t\\hline\n",
       "\t1 & [154] & [239] & 0.100829 & 0.174273 & 0.0242717 & 0.240721 & $\\dots$ \\\\\n",
       "\t2 & [25] & [117] & 0.00580562 & 0.17235 & 0.00129402 & 0.222892 & $\\dots$ \\\\\n",
       "\t3 & [50] & [22] & 0.0287133 & 0.0850208 & 0.00654006 & 0.227771 & $\\dots$ \\\\\n",
       "\t4 & [62] & [6] & 0.01322 & 0.126709 & 0.00297276 & 0.224868 & $\\dots$ \\\\\n",
       "\t5 & [198] & [294] & 0.0109118 & 0.172455 & 0.00402196 & 0.36859 & $\\dots$ \\\\\n",
       "\t6 & [79] & [109] & 0.0152485 & 0.102088 & 0.00409191 & 0.268349 & $\\dots$ \\\\\n",
       "\t7 & [230] & [117] & 0.0413388 & 0.17235 & 0.0094079 & 0.22758 & $\\dots$ \\\\\n",
       "\t8 & [289] & [6] & 0.00419683 & 0.126709 & 0.00101423 & 0.241667 & $\\dots$ \\\\\n",
       "\t9 & [183] & [106] & 0.0546637 & 0.13958 & 0.0131501 & 0.240563 & $\\dots$ \\\\\n",
       "\t10 & [96] & [114] & 0.0759976 & 0.116147 & 0.0155982 & 0.205246 & $\\dots$ \\\\\n",
       "\t11 & [6] & [53] & 0.126709 & 0.0896373 & 0.0340293 & 0.268562 & $\\dots$ \\\\\n",
       "\t12 & [53] & [6] & 0.0896373 & 0.126709 & 0.0340293 & 0.379633 & $\\dots$ \\\\\n",
       "\t13 & [237] & [117] & 0.00552583 & 0.17235 & 0.00223831 & 0.405063 & $\\dots$ \\\\\n",
       "\t14 & [142] & [117] & 0.0103522 & 0.17235 & 0.00311265 & 0.300676 & $\\dots$ \\\\\n",
       "\t15 & [206] & [106] & 0.00524604 & 0.13958 & 0.00199349 & 0.38 & $\\dots$ \\\\\n",
       "\t16 & [225] & [26] & 0.0454307 & 0.0868045 & 0.00933795 & 0.205543 & $\\dots$ \\\\\n",
       "\t17 & [93] & [294] & 0.0710663 & 0.172455 & 0.0203197 & 0.285925 & $\\dots$ \\\\\n",
       "\t18 & [162] & [114] & 0.0258105 & 0.116147 & 0.00545588 & 0.211382 & $\\dots$ \\\\\n",
       "\t19 & [259] & [101] & 0.0267548 & 0.137411 & 0.00573567 & 0.214379 & $\\dots$ \\\\\n",
       "\t20 & [13] & [117] & 0.107894 & 0.17235 & 0.0279789 & 0.259319 & $\\dots$ \\\\\n",
       "\t21 & [7] & [37] & 0.00545588 & 0.104536 & 0.00111916 & 0.205128 & $\\dots$ \\\\\n",
       "\t22 & [155] & [101] & 0.00307768 & 0.137411 & 0.00104921 & 0.340909 & $\\dots$ \\\\\n",
       "\t23 & [24] & [239] & 0.00727451 & 0.174273 & 0.00223831 & 0.307692 & $\\dots$ \\\\\n",
       "\t24 & [30] & [165] & 0.0839017 & 0.12587 & 0.0223481 & 0.266361 & $\\dots$ \\\\\n",
       "\t25 & [203] & [239] & 0.0048963 & 0.174273 & 0.00157381 & 0.321429 & $\\dots$ \\\\\n",
       "\t26 & [158] & [323] & 0.025181 & 0.12545 & 0.00514112 & 0.204167 & $\\dots$ \\\\\n",
       "\t27 & [97] & [165] & 0.0795649 & 0.12587 & 0.018606 & 0.233846 & $\\dots$ \\\\\n",
       "\t28 & [131] & [300] & 0.0667646 & 0.0917357 & 0.0153884 & 0.230487 & $\\dots$ \\\\\n",
       "\t29 & [58] & [117] & 0.0128703 & 0.17235 & 0.00398699 & 0.309783 & $\\dots$ \\\\\n",
       "\t30 & [109] & [239] & 0.102088 & 0.174273 & 0.0306718 & 0.300445 & $\\dots$ \\\\\n",
       "\t$\\dots$ & $\\dots$ & $\\dots$ & $\\dots$ & $\\dots$ & $\\dots$ & $\\dots$ &  \\\\\n",
       "\\end{tabular}\n"
      ],
      "text/plain": [
       "\u001b[1m2529×7 DataFrame\u001b[0m\n",
       "\u001b[1m  Row \u001b[0m│\u001b[1m antecedents \u001b[0m\u001b[1m consequents \u001b[0m\u001b[1m antecedent support \u001b[0m\u001b[1m consequent support \u001b[0m\u001b[1m supp\u001b[0m ⋯\n",
       "      │\u001b[90m Any         \u001b[0m\u001b[90m Any         \u001b[0m\u001b[90m Float64            \u001b[0m\u001b[90m Float64            \u001b[0m\u001b[90m Floa\u001b[0m ⋯\n",
       "──────┼─────────────────────────────────────────────────────────────────────────\n",
       "    1 │ [154]        [239]                0.100829             0.174273   0.02 ⋯\n",
       "    2 │ [25]         [117]                0.00580562           0.17235    0.00\n",
       "    3 │ [50]         [22]                 0.0287133            0.0850208  0.00\n",
       "    4 │ [62]         [6]                  0.01322              0.126709   0.00\n",
       "    5 │ [198]        [294]                0.0109118            0.172455   0.00 ⋯\n",
       "    6 │ [79]         [109]                0.0152485            0.102088   0.00\n",
       "    7 │ [230]        [117]                0.0413388            0.17235    0.00\n",
       "    8 │ [289]        [6]                  0.00419683           0.126709   0.00\n",
       "    9 │ [183]        [106]                0.0546637            0.13958    0.01 ⋯\n",
       "   10 │ [96]         [114]                0.0759976            0.116147   0.01\n",
       "   11 │ [6]          [53]                 0.126709             0.0896373  0.03\n",
       "  ⋮   │      ⋮            ⋮               ⋮                   ⋮                ⋱\n",
       " 2520 │ [122]        [53]                 0.108908             0.0896373  0.02\n",
       " 2521 │ [95]         [111]                0.00923303           0.0929248  0.00 ⋯\n",
       " 2522 │ [111]        [117]                0.0929248            0.17235    0.02\n",
       " 2523 │ [313]        [323]                0.0522156            0.12545    0.01\n",
       " 2524 │ [50]         [294]                0.0287133            0.172455   0.00\n",
       " 2525 │ [225]        [10]                 0.0454307            0.095338   0.00 ⋯\n",
       " 2526 │ [133]        [294]                0.02651              0.172455   0.01\n",
       " 2527 │ [124]        [163]                0.0269996            0.11314    0.00\n",
       " 2528 │ [97]         [300]                0.0795649            0.0917357  0.01\n",
       " 2529 │ [272]        [239]                0.0365124            0.174273   0.01 ⋯\n",
       "\u001b[36m                                                 3 columns and 2508 rows omitted\u001b[0m"
      ]
     },
     "execution_count": 59,
     "metadata": {},
     "output_type": "execute_result"
    }
   ],
   "source": [
    "@time begin\n",
    "itens = collect(1:327); #articles are represented as unique ids from 1 to 327\n",
    "threshold = 0.001;\n",
    "transactions = trans;\n",
    "dict_comb, frequentes = apriori(transactions, itens, threshold, 2);\n",
    "df_res = association_rules(dict_comb, \"confidence\", 0.2);\n",
    "end"
   ]
  },
  {
   "cell_type": "code",
   "execution_count": 60,
   "id": "9560fb22-566c-4879-9a60-99f9e82ccf65",
   "metadata": {
    "tags": []
   },
   "outputs": [],
   "source": [
    "df_res.antecedents = first.(df_res.antecedents); # Transformando em Int\n",
    "df_res.consequents = first.(df_res.consequents); # Transformando em Int"
   ]
  },
  {
   "cell_type": "code",
   "execution_count": 61,
   "id": "a7a24e67-6ee9-4471-919d-c6e30fba5c44",
   "metadata": {
    "tags": []
   },
   "outputs": [],
   "source": [
    "df_res[!, :antecedents_str] = [dict_codes[x] for x ∈ df_res.antecedents]; # Texto dos itens\n",
    "df_res[!, :consequents_str] = [dict_codes[x] for x ∈ df_res.consequents]; # Texto dos itens"
   ]
  },
  {
   "cell_type": "code",
   "execution_count": 62,
   "id": "54343cdf-559a-4121-b036-f32f6c12594e",
   "metadata": {
    "tags": []
   },
   "outputs": [
    {
     "data": {
      "text/html": [
       "<div><div style = \"float: left;\"><span>2529×9 DataFrame</span></div><div style = \"float: right;\"><span style = \"font-style: italic;\">2504 rows omitted</span></div><div style = \"clear: both;\"></div></div><div class = \"data-frame\" style = \"overflow-x: scroll;\"><table class = \"data-frame\" style = \"margin-bottom: 6px;\"><thead><tr class = \"header\"><th class = \"rowNumber\" style = \"font-weight: bold; text-align: right;\">Row</th><th style = \"text-align: left;\">antecedents</th><th style = \"text-align: left;\">consequents</th><th style = \"text-align: left;\">antecedent support</th><th style = \"text-align: left;\">consequent support</th><th style = \"text-align: left;\">support</th><th style = \"text-align: left;\">confidence</th><th style = \"text-align: left;\">lift</th><th style = \"text-align: left;\">antecedents_str</th><th style = \"text-align: left;\">consequents_str</th></tr><tr class = \"subheader headerLastRow\"><th class = \"rowNumber\" style = \"font-weight: bold; text-align: right;\"></th><th title = \"Int64\" style = \"text-align: left;\">Int64</th><th title = \"Int64\" style = \"text-align: left;\">Int64</th><th title = \"Float64\" style = \"text-align: left;\">Float64</th><th title = \"Float64\" style = \"text-align: left;\">Float64</th><th title = \"Float64\" style = \"text-align: left;\">Float64</th><th title = \"Float64\" style = \"text-align: left;\">Float64</th><th title = \"Float64\" style = \"text-align: left;\">Float64</th><th title = \"String\" style = \"text-align: left;\">String</th><th title = \"String\" style = \"text-align: left;\">String</th></tr></thead><tbody><tr><td class = \"rowNumber\" style = \"font-weight: bold; text-align: right;\">1</td><td style = \"text-align: right;\">49</td><td style = \"text-align: right;\">271</td><td style = \"text-align: right;\">0.00167873</td><td style = \"text-align: right;\">0.00342741</td><td style = \"text-align: right;\">0.00108418</td><td style = \"text-align: right;\">0.645833</td><td style = \"text-align: right;\">188.432</td><td style = \"text-align: left;\">CABOS PARA RODOS E VASSOURAS</td><td style = \"text-align: left;\">RODOS</td></tr><tr><td class = \"rowNumber\" style = \"font-weight: bold; text-align: right;\">2</td><td style = \"text-align: right;\">271</td><td style = \"text-align: right;\">49</td><td style = \"text-align: right;\">0.00342741</td><td style = \"text-align: right;\">0.00167873</td><td style = \"text-align: right;\">0.00108418</td><td style = \"text-align: right;\">0.316327</td><td style = \"text-align: right;\">188.432</td><td style = \"text-align: left;\">RODOS</td><td style = \"text-align: left;\">CABOS PARA RODOS E VASSOURAS</td></tr><tr><td class = \"rowNumber\" style = \"font-weight: bold; text-align: right;\">3</td><td style = \"text-align: right;\">80</td><td style = \"text-align: right;\">81</td><td style = \"text-align: right;\">0.0129402</td><td style = \"text-align: right;\">0.00877837</td><td style = \"text-align: right;\">0.00458154</td><td style = \"text-align: right;\">0.354054</td><td style = \"text-align: right;\">40.3325</td><td style = \"text-align: left;\">COBERTURA CHOCOLATE AO LEITE</td><td style = \"text-align: left;\">COBERTURA CHOCOLATE BRANCO</td></tr><tr><td class = \"rowNumber\" style = \"font-weight: bold; text-align: right;\">4</td><td style = \"text-align: right;\">81</td><td style = \"text-align: right;\">80</td><td style = \"text-align: right;\">0.00877837</td><td style = \"text-align: right;\">0.0129402</td><td style = \"text-align: right;\">0.00458154</td><td style = \"text-align: right;\">0.521912</td><td style = \"text-align: right;\">40.3325</td><td style = \"text-align: left;\">COBERTURA CHOCOLATE BRANCO</td><td style = \"text-align: left;\">COBERTURA CHOCOLATE AO LEITE</td></tr><tr><td class = \"rowNumber\" style = \"font-weight: bold; text-align: right;\">5</td><td style = \"text-align: right;\">277</td><td style = \"text-align: right;\">279</td><td style = \"text-align: right;\">0.00891827</td><td style = \"text-align: right;\">0.0110866</td><td style = \"text-align: right;\">0.00395202</td><td style = \"text-align: right;\">0.443137</td><td style = \"text-align: right;\">39.9704</td><td style = \"text-align: left;\">SACHE AZEITE</td><td style = \"text-align: left;\">SACHE VINAGRE</td></tr><tr><td class = \"rowNumber\" style = \"font-weight: bold; text-align: right;\">6</td><td style = \"text-align: right;\">279</td><td style = \"text-align: right;\">277</td><td style = \"text-align: right;\">0.0110866</td><td style = \"text-align: right;\">0.00891827</td><td style = \"text-align: right;\">0.00395202</td><td style = \"text-align: right;\">0.356467</td><td style = \"text-align: right;\">39.9704</td><td style = \"text-align: left;\">SACHE VINAGRE</td><td style = \"text-align: left;\">SACHE AZEITE</td></tr><tr><td class = \"rowNumber\" style = \"font-weight: bold; text-align: right;\">7</td><td style = \"text-align: right;\">103</td><td style = \"text-align: right;\">146</td><td style = \"text-align: right;\">0.00468646</td><td style = \"text-align: right;\">0.0067499</td><td style = \"text-align: right;\">0.00115413</td><td style = \"text-align: right;\">0.246269</td><td style = \"text-align: right;\">36.4848</td><td style = \"text-align: left;\">EMBALAGENS ORIENTAIS</td><td style = \"text-align: left;\">HASHI</td></tr><tr><td class = \"rowNumber\" style = \"font-weight: bold; text-align: right;\">8</td><td style = \"text-align: right;\">75</td><td style = \"text-align: right;\">76</td><td style = \"text-align: right;\">0.00234323</td><td style = \"text-align: right;\">0.0163327</td><td style = \"text-align: right;\">0.00115413</td><td style = \"text-align: right;\">0.492537</td><td style = \"text-align: right;\">30.1566</td><td style = \"text-align: left;\">CHOCOLATE EM BARRA BLEND</td><td style = \"text-align: left;\">CHOCOLATE EM BARRA BRANCO</td></tr><tr><td class = \"rowNumber\" style = \"font-weight: bold; text-align: right;\">9</td><td style = \"text-align: right;\">15</td><td style = \"text-align: right;\">28</td><td style = \"text-align: right;\">0.0111566</td><td style = \"text-align: right;\">0.0148288</td><td style = \"text-align: right;\">0.00493128</td><td style = \"text-align: right;\">0.442006</td><td style = \"text-align: right;\">29.8073</td><td style = \"text-align: left;\">ALGA E NORI</td><td style = \"text-align: left;\">ARROZ JAPONES</td></tr><tr><td class = \"rowNumber\" style = \"font-weight: bold; text-align: right;\">10</td><td style = \"text-align: right;\">28</td><td style = \"text-align: right;\">15</td><td style = \"text-align: right;\">0.0148288</td><td style = \"text-align: right;\">0.0111566</td><td style = \"text-align: right;\">0.00493128</td><td style = \"text-align: right;\">0.332547</td><td style = \"text-align: right;\">29.8073</td><td style = \"text-align: left;\">ARROZ JAPONES</td><td style = \"text-align: left;\">ALGA E NORI</td></tr><tr><td class = \"rowNumber\" style = \"font-weight: bold; text-align: right;\">11</td><td style = \"text-align: right;\">146</td><td style = \"text-align: right;\">15</td><td style = \"text-align: right;\">0.0067499</td><td style = \"text-align: right;\">0.0111566</td><td style = \"text-align: right;\">0.00220334</td><td style = \"text-align: right;\">0.326425</td><td style = \"text-align: right;\">29.2585</td><td style = \"text-align: left;\">HASHI</td><td style = \"text-align: left;\">ALGA E NORI</td></tr><tr><td class = \"rowNumber\" style = \"font-weight: bold; text-align: right;\">12</td><td style = \"text-align: right;\">74</td><td style = \"text-align: right;\">76</td><td style = \"text-align: right;\">0.0114713</td><td style = \"text-align: right;\">0.0163327</td><td style = \"text-align: right;\">0.00528101</td><td style = \"text-align: right;\">0.460366</td><td style = \"text-align: right;\">28.1868</td><td style = \"text-align: left;\">CHOCOLATE EM BARRA AO LEITE</td><td style = \"text-align: left;\">CHOCOLATE EM BARRA BRANCO</td></tr><tr><td class = \"rowNumber\" style = \"font-weight: bold; text-align: right;\">13</td><td style = \"text-align: right;\">76</td><td style = \"text-align: right;\">74</td><td style = \"text-align: right;\">0.0163327</td><td style = \"text-align: right;\">0.0114713</td><td style = \"text-align: right;\">0.00528101</td><td style = \"text-align: right;\">0.32334</td><td style = \"text-align: right;\">28.1868</td><td style = \"text-align: left;\">CHOCOLATE EM BARRA BRANCO</td><td style = \"text-align: left;\">CHOCOLATE EM BARRA AO LEITE</td></tr><tr><td style = \"text-align: right;\">&vellip;</td><td style = \"text-align: right;\">&vellip;</td><td style = \"text-align: right;\">&vellip;</td><td style = \"text-align: right;\">&vellip;</td><td style = \"text-align: right;\">&vellip;</td><td style = \"text-align: right;\">&vellip;</td><td style = \"text-align: right;\">&vellip;</td><td style = \"text-align: right;\">&vellip;</td><td style = \"text-align: right;\">&vellip;</td><td style = \"text-align: right;\">&vellip;</td></tr><tr><td class = \"rowNumber\" style = \"font-weight: bold; text-align: right;\">2518</td><td style = \"text-align: right;\">94</td><td style = \"text-align: right;\">117</td><td style = \"text-align: right;\">0.0148988</td><td style = \"text-align: right;\">0.17235</td><td style = \"text-align: right;\">0.00311265</td><td style = \"text-align: right;\">0.20892</td><td style = \"text-align: right;\">1.21219</td><td style = \"text-align: left;\">CREME DE AVELA</td><td style = \"text-align: left;\">FARINHA DE TRIGO</td></tr><tr><td class = \"rowNumber\" style = \"font-weight: bold; text-align: right;\">2519</td><td style = \"text-align: right;\">292</td><td style = \"text-align: right;\">117</td><td style = \"text-align: right;\">0.0111216</td><td style = \"text-align: right;\">0.17235</td><td style = \"text-align: right;\">0.00230826</td><td style = \"text-align: right;\">0.207547</td><td style = \"text-align: right;\">1.20422</td><td style = \"text-align: left;\">SACOLA BIODEGRADAVEL</td><td style = \"text-align: left;\">FARINHA DE TRIGO</td></tr><tr><td class = \"rowNumber\" style = \"font-weight: bold; text-align: right;\">2520</td><td style = \"text-align: right;\">14</td><td style = \"text-align: right;\">117</td><td style = \"text-align: right;\">0.0133249</td><td style = \"text-align: right;\">0.17235</td><td style = \"text-align: right;\">0.00276291</td><td style = \"text-align: right;\">0.207349</td><td style = \"text-align: right;\">1.20307</td><td style = \"text-align: left;\">ALCOOL GEL</td><td style = \"text-align: left;\">FARINHA DE TRIGO</td></tr><tr><td class = \"rowNumber\" style = \"font-weight: bold; text-align: right;\">2521</td><td style = \"text-align: right;\">260</td><td style = \"text-align: right;\">294</td><td style = \"text-align: right;\">0.0151785</td><td style = \"text-align: right;\">0.172455</td><td style = \"text-align: right;\">0.00314762</td><td style = \"text-align: right;\">0.207373</td><td style = \"text-align: right;\">1.20248</td><td style = \"text-align: left;\">POTE TERMICO (ISOPOR)</td><td style = \"text-align: left;\">SAL</td></tr><tr><td class = \"rowNumber\" style = \"font-weight: bold; text-align: right;\">2522</td><td style = \"text-align: right;\">301</td><td style = \"text-align: right;\">117</td><td style = \"text-align: right;\">0.0273494</td><td style = \"text-align: right;\">0.17235</td><td style = \"text-align: right;\">0.00566572</td><td style = \"text-align: right;\">0.207161</td><td style = \"text-align: right;\">1.20198</td><td style = \"text-align: left;\">SUCO EM PO</td><td style = \"text-align: left;\">FARINHA DE TRIGO</td></tr><tr><td class = \"rowNumber\" style = \"font-weight: bold; text-align: right;\">2523</td><td style = \"text-align: right;\">278</td><td style = \"text-align: right;\">294</td><td style = \"text-align: right;\">0.0244116</td><td style = \"text-align: right;\">0.172455</td><td style = \"text-align: right;\">0.00500122</td><td style = \"text-align: right;\">0.204871</td><td style = \"text-align: right;\">1.18797</td><td style = \"text-align: left;\">SACHE GUARDANAPO</td><td style = \"text-align: left;\">SAL</td></tr><tr><td class = \"rowNumber\" style = \"font-weight: bold; text-align: right;\">2524</td><td style = \"text-align: right;\">187</td><td style = \"text-align: right;\">117</td><td style = \"text-align: right;\">0.017277</td><td style = \"text-align: right;\">0.17235</td><td style = \"text-align: right;\">0.00353233</td><td style = \"text-align: right;\">0.204453</td><td style = \"text-align: right;\">1.18627</td><td style = \"text-align: left;\">MOLHOS CULINARIOS BASES E FUNDOS</td><td style = \"text-align: left;\">FARINHA DE TRIGO</td></tr><tr><td class = \"rowNumber\" style = \"font-weight: bold; text-align: right;\">2525</td><td style = \"text-align: right;\">260</td><td style = \"text-align: right;\">239</td><td style = \"text-align: right;\">0.0151785</td><td style = \"text-align: right;\">0.174273</td><td style = \"text-align: right;\">0.00311265</td><td style = \"text-align: right;\">0.205069</td><td style = \"text-align: right;\">1.17671</td><td style = \"text-align: left;\">POTE TERMICO (ISOPOR)</td><td style = \"text-align: left;\">OUTROS TEMPEROS E ESPECIARIAS</td></tr><tr><td class = \"rowNumber\" style = \"font-weight: bold; text-align: right;\">2526</td><td style = \"text-align: right;\">71</td><td style = \"text-align: right;\">294</td><td style = \"text-align: right;\">0.0111566</td><td style = \"text-align: right;\">0.172455</td><td style = \"text-align: right;\">0.00223831</td><td style = \"text-align: right;\">0.200627</td><td style = \"text-align: right;\">1.16336</td><td style = \"text-align: left;\">CHAS</td><td style = \"text-align: left;\">SAL</td></tr><tr><td class = \"rowNumber\" style = \"font-weight: bold; text-align: right;\">2527</td><td style = \"text-align: right;\">170</td><td style = \"text-align: right;\">239</td><td style = \"text-align: right;\">0.0188158</td><td style = \"text-align: right;\">0.174273</td><td style = \"text-align: right;\">0.00381212</td><td style = \"text-align: right;\">0.202602</td><td style = \"text-align: right;\">1.16255</td><td style = \"text-align: left;\">MASCARA DESCARTAVEL</td><td style = \"text-align: left;\">OUTROS TEMPEROS E ESPECIARIAS</td></tr><tr><td class = \"rowNumber\" style = \"font-weight: bold; text-align: right;\">2528</td><td style = \"text-align: right;\">279</td><td style = \"text-align: right;\">239</td><td style = \"text-align: right;\">0.0110866</td><td style = \"text-align: right;\">0.174273</td><td style = \"text-align: right;\">0.00223831</td><td style = \"text-align: right;\">0.201893</td><td style = \"text-align: right;\">1.15848</td><td style = \"text-align: left;\">SACHE VINAGRE</td><td style = \"text-align: left;\">OUTROS TEMPEROS E ESPECIARIAS</td></tr><tr><td class = \"rowNumber\" style = \"font-weight: bold; text-align: right;\">2529</td><td style = \"text-align: right;\">82</td><td style = \"text-align: right;\">239</td><td style = \"text-align: right;\">0.00591054</td><td style = \"text-align: right;\">0.174273</td><td style = \"text-align: right;\">0.0011891</td><td style = \"text-align: right;\">0.201183</td><td style = \"text-align: right;\">1.15441</td><td style = \"text-align: left;\">COBERTURA CHOCOLATE MEIO AMARGO</td><td style = \"text-align: left;\">OUTROS TEMPEROS E ESPECIARIAS</td></tr></tbody></table></div>"
      ],
      "text/latex": [
       "\\begin{tabular}{r|ccccccc}\n",
       "\t& antecedents & consequents & antecedent support & consequent support & support & confidence & \\\\\n",
       "\t\\hline\n",
       "\t& Int64 & Int64 & Float64 & Float64 & Float64 & Float64 & \\\\\n",
       "\t\\hline\n",
       "\t1 & 49 & 271 & 0.00167873 & 0.00342741 & 0.00108418 & 0.645833 & $\\dots$ \\\\\n",
       "\t2 & 271 & 49 & 0.00342741 & 0.00167873 & 0.00108418 & 0.316327 & $\\dots$ \\\\\n",
       "\t3 & 80 & 81 & 0.0129402 & 0.00877837 & 0.00458154 & 0.354054 & $\\dots$ \\\\\n",
       "\t4 & 81 & 80 & 0.00877837 & 0.0129402 & 0.00458154 & 0.521912 & $\\dots$ \\\\\n",
       "\t5 & 277 & 279 & 0.00891827 & 0.0110866 & 0.00395202 & 0.443137 & $\\dots$ \\\\\n",
       "\t6 & 279 & 277 & 0.0110866 & 0.00891827 & 0.00395202 & 0.356467 & $\\dots$ \\\\\n",
       "\t7 & 103 & 146 & 0.00468646 & 0.0067499 & 0.00115413 & 0.246269 & $\\dots$ \\\\\n",
       "\t8 & 75 & 76 & 0.00234323 & 0.0163327 & 0.00115413 & 0.492537 & $\\dots$ \\\\\n",
       "\t9 & 15 & 28 & 0.0111566 & 0.0148288 & 0.00493128 & 0.442006 & $\\dots$ \\\\\n",
       "\t10 & 28 & 15 & 0.0148288 & 0.0111566 & 0.00493128 & 0.332547 & $\\dots$ \\\\\n",
       "\t11 & 146 & 15 & 0.0067499 & 0.0111566 & 0.00220334 & 0.326425 & $\\dots$ \\\\\n",
       "\t12 & 74 & 76 & 0.0114713 & 0.0163327 & 0.00528101 & 0.460366 & $\\dots$ \\\\\n",
       "\t13 & 76 & 74 & 0.0163327 & 0.0114713 & 0.00528101 & 0.32334 & $\\dots$ \\\\\n",
       "\t14 & 259 & 310 & 0.0267548 & 0.0149687 & 0.0108068 & 0.403922 & $\\dots$ \\\\\n",
       "\t15 & 310 & 259 & 0.0149687 & 0.0267548 & 0.0108068 & 0.721963 & $\\dots$ \\\\\n",
       "\t16 & 35 & 142 & 0.00657504 & 0.0103522 & 0.00171371 & 0.260638 & $\\dots$ \\\\\n",
       "\t17 & 219 & 136 & 0.00706467 & 0.0114364 & 0.0018536 & 0.262376 & $\\dots$ \\\\\n",
       "\t18 & 282 & 284 & 0.0316161 & 0.0257755 & 0.018536 & 0.586283 & $\\dots$ \\\\\n",
       "\t19 & 284 & 282 & 0.0257755 & 0.0316161 & 0.018536 & 0.719132 & $\\dots$ \\\\\n",
       "\t20 & 284 & 286 & 0.0257755 & 0.0112265 & 0.00650509 & 0.252374 & $\\dots$ \\\\\n",
       "\t21 & 286 & 284 & 0.0112265 & 0.0257755 & 0.00650509 & 0.579439 & $\\dots$ \\\\\n",
       "\t22 & 146 & 28 & 0.0067499 & 0.0148288 & 0.00223831 & 0.331606 & $\\dots$ \\\\\n",
       "\t23 & 282 & 286 & 0.0316161 & 0.0112265 & 0.00790403 & 0.25 & $\\dots$ \\\\\n",
       "\t24 & 286 & 282 & 0.0112265 & 0.0316161 & 0.00790403 & 0.70405 & $\\dots$ \\\\\n",
       "\t25 & 281 & 280 & 0.00493128 & 0.0229777 & 0.00227328 & 0.460993 & $\\dots$ \\\\\n",
       "\t26 & 67 & 142 & 0.00919806 & 0.0103522 & 0.00188857 & 0.205323 & $\\dots$ \\\\\n",
       "\t27 & 271 & 322 & 0.00342741 & 0.0205994 & 0.00136397 & 0.397959 & $\\dots$ \\\\\n",
       "\t28 & 8 & 11 & 0.0409541 & 0.0388207 & 0.0298325 & 0.728437 & $\\dots$ \\\\\n",
       "\t29 & 11 & 8 & 0.0388207 & 0.0409541 & 0.0298325 & 0.768468 & $\\dots$ \\\\\n",
       "\t30 & 48 & 72 & 0.0239919 & 0.0109817 & 0.0048963 & 0.204082 & $\\dots$ \\\\\n",
       "\t$\\dots$ & $\\dots$ & $\\dots$ & $\\dots$ & $\\dots$ & $\\dots$ & $\\dots$ &  \\\\\n",
       "\\end{tabular}\n"
      ],
      "text/plain": [
       "\u001b[1m2529×9 DataFrame\u001b[0m\n",
       "\u001b[1m  Row \u001b[0m│\u001b[1m antecedents \u001b[0m\u001b[1m consequents \u001b[0m\u001b[1m antecedent support \u001b[0m\u001b[1m consequent support \u001b[0m\u001b[1m supp\u001b[0m ⋯\n",
       "      │\u001b[90m Int64       \u001b[0m\u001b[90m Int64       \u001b[0m\u001b[90m Float64            \u001b[0m\u001b[90m Float64            \u001b[0m\u001b[90m Floa\u001b[0m ⋯\n",
       "──────┼─────────────────────────────────────────────────────────────────────────\n",
       "    1 │          49          271          0.00167873          0.00342741  0.00 ⋯\n",
       "    2 │         271           49          0.00342741          0.00167873  0.00\n",
       "    3 │          80           81          0.0129402           0.00877837  0.00\n",
       "    4 │          81           80          0.00877837          0.0129402   0.00\n",
       "    5 │         277          279          0.00891827          0.0110866   0.00 ⋯\n",
       "    6 │         279          277          0.0110866           0.00891827  0.00\n",
       "    7 │         103          146          0.00468646          0.0067499   0.00\n",
       "    8 │          75           76          0.00234323          0.0163327   0.00\n",
       "    9 │          15           28          0.0111566           0.0148288   0.00 ⋯\n",
       "   10 │          28           15          0.0148288           0.0111566   0.00\n",
       "   11 │         146           15          0.0067499           0.0111566   0.00\n",
       "  ⋮   │      ⋮            ⋮               ⋮                   ⋮                ⋱\n",
       " 2520 │          14          117          0.0133249           0.17235     0.00\n",
       " 2521 │         260          294          0.0151785           0.172455    0.00 ⋯\n",
       " 2522 │         301          117          0.0273494           0.17235     0.00\n",
       " 2523 │         278          294          0.0244116           0.172455    0.00\n",
       " 2524 │         187          117          0.017277            0.17235     0.00\n",
       " 2525 │         260          239          0.0151785           0.174273    0.00 ⋯\n",
       " 2526 │          71          294          0.0111566           0.172455    0.00\n",
       " 2527 │         170          239          0.0188158           0.174273    0.00\n",
       " 2528 │         279          239          0.0110866           0.174273    0.00\n",
       " 2529 │          82          239          0.00591054          0.174273    0.00 ⋯\n",
       "\u001b[36m                                                 5 columns and 2508 rows omitted\u001b[0m"
      ]
     },
     "execution_count": 62,
     "metadata": {},
     "output_type": "execute_result"
    }
   ],
   "source": [
    "df_res = sort!(df_res, order(:lift, rev=true)) # ordenar regras"
   ]
  },
  {
   "cell_type": "code",
   "execution_count": 63,
   "id": "97e26cab-9d78-4c4e-9d68-b1b4633dac91",
   "metadata": {
    "tags": []
   },
   "outputs": [
    {
     "data": {
      "text/plain": [
       "\"out.csv\""
      ]
     },
     "execution_count": 63,
     "metadata": {},
     "output_type": "execute_result"
    }
   ],
   "source": [
    "CSV.write(\"out.csv\", df_res)"
   ]
  },
  {
   "cell_type": "markdown",
   "id": "7b50f2ec-82db-4ab4-9ecb-b37e17142ce7",
   "metadata": {
    "tags": []
   },
   "source": [
    "# Gerando Recomendações"
   ]
  },
  {
   "cell_type": "code",
   "execution_count": 64,
   "id": "c421913f-1568-4671-96d9-b7aba6a7832c",
   "metadata": {
    "tags": []
   },
   "outputs": [
    {
     "data": {
      "text/plain": [
       "arl_recommender (generic function with 2 methods)"
      ]
     },
     "execution_count": 64,
     "metadata": {},
     "output_type": "execute_result"
    }
   ],
   "source": [
    "function arl_recommender(rules_df, product_id, rec_count=1)\n",
    "    sorted_rules = rules_df\n",
    "    recommendation_list = []\n",
    "    for i in 1:size(sorted_rules, 1)\n",
    "        product = sorted_rules[!, \"antecedents_str\"][i]\n",
    "        if product in product_id\n",
    "            push!(recommendation_list, sorted_rules[!, \"consequents_str\"][i])\n",
    "        end\n",
    "    end\n",
    "    if rec_count > size(product_id, 1)\n",
    "        rec_count = size(product_id, 1)\n",
    "    end\n",
    "    recommendation_list = union(recommendation_list)\n",
    "    recommendation_list = setdiff(recommendation_list,product_id)\n",
    "    return recommendation_list[1:rec_count]\n",
    "end"
   ]
  },
  {
   "cell_type": "code",
   "execution_count": 78,
   "id": "259cd7ed-c567-4cad-a551-64126548dc94",
   "metadata": {
    "tags": []
   },
   "outputs": [
    {
     "data": {
      "text/plain": [
       "10-element Vector{String}:\n",
       " \"RODOS\"\n",
       " \"SUCO NECTAR\"\n",
       " \"MILHO VERDE\"\n",
       " \"LEITE INTEGRAL\"\n",
       " \"CAFE EM PO\"\n",
       " \"SOBREMESAS EM PO\"\n",
       " \"ACUCAR REFINADO\"\n",
       " \"VINAGRE\"\n",
       " \"OUTROS TEMPEROS E ESPECIARIAS\"\n",
       " \"FARINHA DE TRIGO\""
      ]
     },
     "execution_count": 78,
     "metadata": {},
     "output_type": "execute_result"
    }
   ],
   "source": [
    "t1 = [\"RODOS\", \"SUCO NECTAR\", \"MILHO VERDE\", \"LEITE INTEGRAL\", \"CAFE EM PO\", \"SOBREMESAS EM PO\", \"ACUCAR REFINADO\", \"VINAGRE\", \"OUTROS TEMPEROS E ESPECIARIAS\", \"FARINHA DE TRIGO\"]"
   ]
  },
  {
   "cell_type": "code",
   "execution_count": 79,
   "id": "6dcd93f5-233e-4498-a198-d41d87556f32",
   "metadata": {
    "tags": []
   },
   "outputs": [
    {
     "data": {
      "text/plain": [
       "10-element Vector{Any}:\n",
       " \"CABOS PARA RODOS E VASSOURAS\"\n",
       " \"VASSOURAS\"\n",
       " \"OUTROS CEREAIS E SEMENTES\"\n",
       " \"OLEO DE SOJA\"\n",
       " \"AGUA SANITARIA\"\n",
       " \"BATATA PALHA\"\n",
       " \"ARROZ PARBOILIZADO\"\n",
       " \"AMIDO DE MILHO\"\n",
       " \"DERIVADOS DE COCO\"\n",
       " \"ARROZ BRANCO\""
      ]
     },
     "execution_count": 79,
     "metadata": {},
     "output_type": "execute_result"
    }
   ],
   "source": [
    "r1 = arl_recommender(df_res, t2, 10)"
   ]
  },
  {
   "cell_type": "code",
   "execution_count": 80,
   "id": "a053efe4-2c8d-4c80-a47e-2e7b3768a963",
   "metadata": {},
   "outputs": [
    {
     "data": {
      "text/plain": [
       "7-element Vector{String}:\n",
       " \"AZEITONAS\"\n",
       " \"BISCOITOS E BOLINHOS\"\n",
       " \"CALDO DE GALINHA\"\n",
       " \"COGUMELOS\"\n",
       " \"OLEO DE ALGODAO\"\n",
       " \"PEPINO EM CONSERVA\"\n",
       " \"TOMATE SECO\""
      ]
     },
     "execution_count": 80,
     "metadata": {},
     "output_type": "execute_result"
    }
   ],
   "source": [
    "t2 = [\"AZEITONAS\", \"BISCOITOS E BOLINHOS\", \"CALDO DE GALINHA\", \"COGUMELOS\", \"OLEO DE ALGODAO\", \"PEPINO EM CONSERVA\", \"TOMATE SECO\"]"
   ]
  },
  {
   "cell_type": "code",
   "execution_count": 81,
   "id": "b8428f5b-0e64-4069-944c-32903aa902a6",
   "metadata": {
    "tags": []
   },
   "outputs": [
    {
     "data": {
      "text/plain": [
       "5-element Vector{Any}:\n",
       " \"CALDO DE CARNE\"\n",
       " \"OUTROS CALDOS SOPAS E CREMES\"\n",
       " \"PALMITO\"\n",
       " \"SOBREMESAS EM PO\"\n",
       " \"CONSERVAS DOCES\""
      ]
     },
     "execution_count": 81,
     "metadata": {},
     "output_type": "execute_result"
    }
   ],
   "source": [
    "r2 = arl_recommender(df_res, t3, 5)"
   ]
  }
 ],
 "metadata": {
  "kernelspec": {
   "display_name": "Julia 1.9.0-beta3",
   "language": "julia",
   "name": "julia-1.9"
  },
  "language_info": {
   "file_extension": ".jl",
   "mimetype": "application/julia",
   "name": "julia",
   "version": "1.9.0"
  },
  "widgets": {
   "application/vnd.jupyter.widget-state+json": {
    "state": {},
    "version_major": 2,
    "version_minor": 0
   }
  }
 },
 "nbformat": 4,
 "nbformat_minor": 5
}
